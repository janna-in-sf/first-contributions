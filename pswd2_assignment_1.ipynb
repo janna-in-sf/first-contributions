{
  "nbformat": 4,
  "nbformat_minor": 0,
  "metadata": {
    "colab": {
      "name": "pswd2_assignment_1.ipynb",
      "provenance": [],
      "collapsed_sections": [],
      "include_colab_link": true
    },
    "kernelspec": {
      "name": "python3",
      "display_name": "Python 3"
    }
  },
  "cells": [
    {
      "cell_type": "markdown",
      "metadata": {
        "id": "view-in-github",
        "colab_type": "text"
      },
      "source": [
        "<a href=\"https://colab.research.google.com/github/janna-in-sf/first-contributions/blob/master/pswd2_assignment_1.ipynb\" target=\"_parent\"><img src=\"https://colab.research.google.com/assets/colab-badge.svg\" alt=\"Open In Colab\"/></a>"
      ]
    },
    {
      "cell_type": "markdown",
      "source": [
        "# **INFO 287 Problem Solving with Data Part 2**\n",
        "### Assignment: 1\n",
        "### April 10, 2022\n",
        "### Janna Voss\n",
        "\n"
      ],
      "metadata": {
        "id": "Q70QFeeElIkP"
      }
    },
    {
      "cell_type": "markdown",
      "metadata": {
        "id": "eACESLStYYU4"
      },
      "source": [
        "# Step 1: Import Packages"
      ]
    },
    {
      "cell_type": "code",
      "source": [
        "import pandas as pd\n",
        "from google.colab import drive\n",
        "from sklearn.cluster import KMeans\n",
        "from sklearn.cluster import DBSCAN\n",
        "from sklearn.cluster import AgglomerativeClustering\n",
        "from sklearn.decomposition import PCA\n",
        "from sklearn.metrics import silhouette_score\n",
        "import matplotlib.pyplot as plt\n",
        "import seaborn as sns"
      ],
      "metadata": {
        "id": "Q0pNGoLxlmHI"
      },
      "execution_count": 1,
      "outputs": []
    },
    {
      "cell_type": "markdown",
      "source": [
        "### Functions"
      ],
      "metadata": {
        "id": "CPKRg98gcIj-"
      }
    },
    {
      "cell_type": "code",
      "source": [
        "def print_counts_percentages(f_model_type:str, f_df:pd.DataFrame)->None:\n",
        "  ''' Print the counts and corresponding percentages in the input DataFrame\n",
        "      for the input ML model_type (i.e., KMeans, DBSCAN, etc.).'''\n",
        "  # Verify that the model type is in the DataFrame...\n",
        "  if f_model_type not in f_df.columns:\n",
        "    raise ValueError('Cannot find \"' + f_model_type +'\" in input DataFrame.')\n",
        "  \n",
        "  print('For',f_model_type, '- number of clusters:', len(f_df[f_model_type].unique()))\n",
        "  print('For',f_model_type, '- count and percentage for each cluster: \\n')\n",
        "\n",
        "  #counts = dict(f_df[f_model_type].value_counts())\n",
        "  #percentages = dict(f_df[f_model_type].value_counts(normalize=True)*100)\n",
        "  \n",
        "  #counts_pers = {}\n",
        "  #for k in counts.keys():\n",
        "    #counts_pers.update({k:[counts[k],percentages[k]]})\n",
        "  \n",
        "  quick_df = f_df[f_model_type].value_counts().to_frame('count')\n",
        "  quick_df['percentage'] = f_df[f_model_type].value_counts(normalize=True).to_frame()*100\n",
        "  #quick_df['count'] = counts\n",
        "  #print('Counts & Percentages:')\n",
        "  #print(quick_df.loc[:,['count','percentage']]*100)\n",
        "  #rans = {0:'Not ransomware',1:'Ransomware'}\n",
        "  #desc = ['count','percentage']\n",
        "  #print(f'For {f_model_type:10}\\t{desc[0]:>8}\\t{desc[1]:>7}')\n",
        "  #print(f'{desc[0]:>16}\\t{desc[1]:>7}')\n",
        "  print(quick_df.loc[:,['count','percentage']])\n",
        "  #for k in counts_pers.keys():\n",
        "    #print(f'{k:<4}\\t{counts_pers[k][0]:>8}\\t{counts_pers[k][1]:>7}')\n",
        "  \n"
      ],
      "metadata": {
        "id": "xSfXrgZFcGv2"
      },
      "execution_count": 201,
      "outputs": []
    },
    {
      "cell_type": "markdown",
      "metadata": {
        "id": "kz3S8upmYcW2"
      },
      "source": [
        "# Step 2: Import Dataset"
      ]
    },
    {
      "cell_type": "code",
      "metadata": {
        "colab": {
          "base_uri": "https://localhost:8080/"
        },
        "id": "QSffsSc5OAaA",
        "outputId": "f0afd7dc-5ac3-4e8b-af79-5d17372e441a"
      },
      "source": [
        "drive.mount('/content/drive')"
      ],
      "execution_count": 2,
      "outputs": [
        {
          "output_type": "stream",
          "name": "stdout",
          "text": [
            "Mounted at /content/drive\n"
          ]
        }
      ]
    },
    {
      "cell_type": "code",
      "metadata": {
        "id": "2KqX0yYoOtXT",
        "colab": {
          "base_uri": "https://localhost:8080/"
        },
        "outputId": "8906fe06-6a5b-4b4a-96cf-25e20c80142b"
      },
      "source": [
        "# initialize some variables\n",
        "path = '/content/drive/My Drive/INFO 287 PSWD2/work/assignment 1/'\n",
        "path_data = path + 'data/'\n",
        "path_images = path + 'images/'\n",
        "file = path_data + 'BitCoin_Heist_1-10000_random.csv'\n",
        "\n",
        "# load the data file\n",
        "print('loading file:',file)\n",
        "df=pd.read_csv(file)"
      ],
      "execution_count": 3,
      "outputs": [
        {
          "output_type": "stream",
          "name": "stdout",
          "text": [
            "loading file: /content/drive/My Drive/INFO 287 PSWD2/work/assignment 1/data/BitCoin_Heist_1-10000_random.csv\n"
          ]
        }
      ]
    },
    {
      "cell_type": "markdown",
      "metadata": {
        "id": "0Zs75RG9Y6WB"
      },
      "source": [
        "### Exploratory Data Analysis..."
      ]
    },
    {
      "cell_type": "code",
      "metadata": {
        "colab": {
          "base_uri": "https://localhost:8080/",
          "height": 248
        },
        "id": "Le7-EoiEPB1_",
        "outputId": "7c6b05b4-7452-4b62-a79a-d618f8656cfc"
      },
      "source": [
        "df.head()"
      ],
      "execution_count": 4,
      "outputs": [
        {
          "output_type": "execute_result",
          "data": {
            "text/plain": [
              "   Unnamed: 0                             address  year  day  length  \\\n",
              "0           0  115p7UMMngoj1pMvkpHijcRdfJNXj6LrLn  2017  141       0   \n",
              "1           1  121P5TiHimHace3ZNuXU4hde9kWqPE1jHC  2016  161       0   \n",
              "2           2  128meNE6VGJqDX4H66bdugPCTo9DbhD7H7  2014   92       6   \n",
              "3           3  128nmHJi2jjuJqDpf22996fp3ct5saE4SK  2013  331     144   \n",
              "4           4  12AoTWahn6ryPbRHUJsibDvXSHMeZZz2AT  2014  167       2   \n",
              "\n",
              "         weight  count  looped  neighbors       income                 label  \n",
              "0  1.000000e+00      1       0          1   30627600.0      montrealWannaCry  \n",
              "1  5.000000e-01      1       0          2  120000000.0      montrealCryptXXX  \n",
              "2  4.500000e-02      2       0          1   70000000.0       paduaCryptoWall  \n",
              "3  5.060000e-12   5773       0          1   50000000.0  montrealCryptoLocker  \n",
              "4  1.000000e+00      2       0          1   84080812.0       paduaCryptoWall  "
            ],
            "text/html": [
              "\n",
              "  <div id=\"df-8bb01788-1f73-4e27-99ef-be5ee43e0bc6\">\n",
              "    <div class=\"colab-df-container\">\n",
              "      <div>\n",
              "<style scoped>\n",
              "    .dataframe tbody tr th:only-of-type {\n",
              "        vertical-align: middle;\n",
              "    }\n",
              "\n",
              "    .dataframe tbody tr th {\n",
              "        vertical-align: top;\n",
              "    }\n",
              "\n",
              "    .dataframe thead th {\n",
              "        text-align: right;\n",
              "    }\n",
              "</style>\n",
              "<table border=\"1\" class=\"dataframe\">\n",
              "  <thead>\n",
              "    <tr style=\"text-align: right;\">\n",
              "      <th></th>\n",
              "      <th>Unnamed: 0</th>\n",
              "      <th>address</th>\n",
              "      <th>year</th>\n",
              "      <th>day</th>\n",
              "      <th>length</th>\n",
              "      <th>weight</th>\n",
              "      <th>count</th>\n",
              "      <th>looped</th>\n",
              "      <th>neighbors</th>\n",
              "      <th>income</th>\n",
              "      <th>label</th>\n",
              "    </tr>\n",
              "  </thead>\n",
              "  <tbody>\n",
              "    <tr>\n",
              "      <th>0</th>\n",
              "      <td>0</td>\n",
              "      <td>115p7UMMngoj1pMvkpHijcRdfJNXj6LrLn</td>\n",
              "      <td>2017</td>\n",
              "      <td>141</td>\n",
              "      <td>0</td>\n",
              "      <td>1.000000e+00</td>\n",
              "      <td>1</td>\n",
              "      <td>0</td>\n",
              "      <td>1</td>\n",
              "      <td>30627600.0</td>\n",
              "      <td>montrealWannaCry</td>\n",
              "    </tr>\n",
              "    <tr>\n",
              "      <th>1</th>\n",
              "      <td>1</td>\n",
              "      <td>121P5TiHimHace3ZNuXU4hde9kWqPE1jHC</td>\n",
              "      <td>2016</td>\n",
              "      <td>161</td>\n",
              "      <td>0</td>\n",
              "      <td>5.000000e-01</td>\n",
              "      <td>1</td>\n",
              "      <td>0</td>\n",
              "      <td>2</td>\n",
              "      <td>120000000.0</td>\n",
              "      <td>montrealCryptXXX</td>\n",
              "    </tr>\n",
              "    <tr>\n",
              "      <th>2</th>\n",
              "      <td>2</td>\n",
              "      <td>128meNE6VGJqDX4H66bdugPCTo9DbhD7H7</td>\n",
              "      <td>2014</td>\n",
              "      <td>92</td>\n",
              "      <td>6</td>\n",
              "      <td>4.500000e-02</td>\n",
              "      <td>2</td>\n",
              "      <td>0</td>\n",
              "      <td>1</td>\n",
              "      <td>70000000.0</td>\n",
              "      <td>paduaCryptoWall</td>\n",
              "    </tr>\n",
              "    <tr>\n",
              "      <th>3</th>\n",
              "      <td>3</td>\n",
              "      <td>128nmHJi2jjuJqDpf22996fp3ct5saE4SK</td>\n",
              "      <td>2013</td>\n",
              "      <td>331</td>\n",
              "      <td>144</td>\n",
              "      <td>5.060000e-12</td>\n",
              "      <td>5773</td>\n",
              "      <td>0</td>\n",
              "      <td>1</td>\n",
              "      <td>50000000.0</td>\n",
              "      <td>montrealCryptoLocker</td>\n",
              "    </tr>\n",
              "    <tr>\n",
              "      <th>4</th>\n",
              "      <td>4</td>\n",
              "      <td>12AoTWahn6ryPbRHUJsibDvXSHMeZZz2AT</td>\n",
              "      <td>2014</td>\n",
              "      <td>167</td>\n",
              "      <td>2</td>\n",
              "      <td>1.000000e+00</td>\n",
              "      <td>2</td>\n",
              "      <td>0</td>\n",
              "      <td>1</td>\n",
              "      <td>84080812.0</td>\n",
              "      <td>paduaCryptoWall</td>\n",
              "    </tr>\n",
              "  </tbody>\n",
              "</table>\n",
              "</div>\n",
              "      <button class=\"colab-df-convert\" onclick=\"convertToInteractive('df-8bb01788-1f73-4e27-99ef-be5ee43e0bc6')\"\n",
              "              title=\"Convert this dataframe to an interactive table.\"\n",
              "              style=\"display:none;\">\n",
              "        \n",
              "  <svg xmlns=\"http://www.w3.org/2000/svg\" height=\"24px\"viewBox=\"0 0 24 24\"\n",
              "       width=\"24px\">\n",
              "    <path d=\"M0 0h24v24H0V0z\" fill=\"none\"/>\n",
              "    <path d=\"M18.56 5.44l.94 2.06.94-2.06 2.06-.94-2.06-.94-.94-2.06-.94 2.06-2.06.94zm-11 1L8.5 8.5l.94-2.06 2.06-.94-2.06-.94L8.5 2.5l-.94 2.06-2.06.94zm10 10l.94 2.06.94-2.06 2.06-.94-2.06-.94-.94-2.06-.94 2.06-2.06.94z\"/><path d=\"M17.41 7.96l-1.37-1.37c-.4-.4-.92-.59-1.43-.59-.52 0-1.04.2-1.43.59L10.3 9.45l-7.72 7.72c-.78.78-.78 2.05 0 2.83L4 21.41c.39.39.9.59 1.41.59.51 0 1.02-.2 1.41-.59l7.78-7.78 2.81-2.81c.8-.78.8-2.07 0-2.86zM5.41 20L4 18.59l7.72-7.72 1.47 1.35L5.41 20z\"/>\n",
              "  </svg>\n",
              "      </button>\n",
              "      \n",
              "  <style>\n",
              "    .colab-df-container {\n",
              "      display:flex;\n",
              "      flex-wrap:wrap;\n",
              "      gap: 12px;\n",
              "    }\n",
              "\n",
              "    .colab-df-convert {\n",
              "      background-color: #E8F0FE;\n",
              "      border: none;\n",
              "      border-radius: 50%;\n",
              "      cursor: pointer;\n",
              "      display: none;\n",
              "      fill: #1967D2;\n",
              "      height: 32px;\n",
              "      padding: 0 0 0 0;\n",
              "      width: 32px;\n",
              "    }\n",
              "\n",
              "    .colab-df-convert:hover {\n",
              "      background-color: #E2EBFA;\n",
              "      box-shadow: 0px 1px 2px rgba(60, 64, 67, 0.3), 0px 1px 3px 1px rgba(60, 64, 67, 0.15);\n",
              "      fill: #174EA6;\n",
              "    }\n",
              "\n",
              "    [theme=dark] .colab-df-convert {\n",
              "      background-color: #3B4455;\n",
              "      fill: #D2E3FC;\n",
              "    }\n",
              "\n",
              "    [theme=dark] .colab-df-convert:hover {\n",
              "      background-color: #434B5C;\n",
              "      box-shadow: 0px 1px 3px 1px rgba(0, 0, 0, 0.15);\n",
              "      filter: drop-shadow(0px 1px 2px rgba(0, 0, 0, 0.3));\n",
              "      fill: #FFFFFF;\n",
              "    }\n",
              "  </style>\n",
              "\n",
              "      <script>\n",
              "        const buttonEl =\n",
              "          document.querySelector('#df-8bb01788-1f73-4e27-99ef-be5ee43e0bc6 button.colab-df-convert');\n",
              "        buttonEl.style.display =\n",
              "          google.colab.kernel.accessAllowed ? 'block' : 'none';\n",
              "\n",
              "        async function convertToInteractive(key) {\n",
              "          const element = document.querySelector('#df-8bb01788-1f73-4e27-99ef-be5ee43e0bc6');\n",
              "          const dataTable =\n",
              "            await google.colab.kernel.invokeFunction('convertToInteractive',\n",
              "                                                     [key], {});\n",
              "          if (!dataTable) return;\n",
              "\n",
              "          const docLinkHtml = 'Like what you see? Visit the ' +\n",
              "            '<a target=\"_blank\" href=https://colab.research.google.com/notebooks/data_table.ipynb>data table notebook</a>'\n",
              "            + ' to learn more about interactive tables.';\n",
              "          element.innerHTML = '';\n",
              "          dataTable['output_type'] = 'display_data';\n",
              "          await google.colab.output.renderOutput(dataTable, element);\n",
              "          const docLink = document.createElement('div');\n",
              "          docLink.innerHTML = docLinkHtml;\n",
              "          element.appendChild(docLink);\n",
              "        }\n",
              "      </script>\n",
              "    </div>\n",
              "  </div>\n",
              "  "
            ]
          },
          "metadata": {},
          "execution_count": 4
        }
      ]
    },
    {
      "cell_type": "code",
      "source": [
        "df.tail()"
      ],
      "metadata": {
        "colab": {
          "base_uri": "https://localhost:8080/",
          "height": 204
        },
        "id": "VRSguZxT_F6D",
        "outputId": "9d141d4d-2944-4eae-b088-7317f0abf07c"
      },
      "execution_count": 5,
      "outputs": [
        {
          "output_type": "execute_result",
          "data": {
            "text/plain": [
              "      Unnamed: 0                             address  year  day  length  \\\n",
              "9995        9995  14ikWkcqf65pkG34yZYwm7SvsHba3jA9HS  2013  239       0   \n",
              "9996        9996  1FLdecqvXrv6LzCVmKqwFR8Mkf1Lk6MB4b  2013  239     144   \n",
              "9997        9997  1CMhMomtXDyi4rXycHabpJ6hYg3meBnWyi  2013  239       0   \n",
              "9998        9998  1PKKeW4HWW5zSJig1wNnLKMACdSRVGY14f  2013  239     144   \n",
              "9999        9999  1ALT89skLDioJwiGrViB4Q9Uz6tF8haVhw  2013  239       8   \n",
              "\n",
              "        weight  count  looped  neighbors       income  label  \n",
              "9995  1.000000      1       0          2   43688563.0  white  \n",
              "9996  0.024036    837       0          2  117026433.0  white  \n",
              "9997  1.000000      1       0          1  110340000.0  white  \n",
              "9998  1.586079   1953       1          3  299630000.0  white  \n",
              "9999  0.250000      1       0          2  252000000.0  white  "
            ],
            "text/html": [
              "\n",
              "  <div id=\"df-66114f0e-83f4-418b-abd4-1f7e1c8fdfde\">\n",
              "    <div class=\"colab-df-container\">\n",
              "      <div>\n",
              "<style scoped>\n",
              "    .dataframe tbody tr th:only-of-type {\n",
              "        vertical-align: middle;\n",
              "    }\n",
              "\n",
              "    .dataframe tbody tr th {\n",
              "        vertical-align: top;\n",
              "    }\n",
              "\n",
              "    .dataframe thead th {\n",
              "        text-align: right;\n",
              "    }\n",
              "</style>\n",
              "<table border=\"1\" class=\"dataframe\">\n",
              "  <thead>\n",
              "    <tr style=\"text-align: right;\">\n",
              "      <th></th>\n",
              "      <th>Unnamed: 0</th>\n",
              "      <th>address</th>\n",
              "      <th>year</th>\n",
              "      <th>day</th>\n",
              "      <th>length</th>\n",
              "      <th>weight</th>\n",
              "      <th>count</th>\n",
              "      <th>looped</th>\n",
              "      <th>neighbors</th>\n",
              "      <th>income</th>\n",
              "      <th>label</th>\n",
              "    </tr>\n",
              "  </thead>\n",
              "  <tbody>\n",
              "    <tr>\n",
              "      <th>9995</th>\n",
              "      <td>9995</td>\n",
              "      <td>14ikWkcqf65pkG34yZYwm7SvsHba3jA9HS</td>\n",
              "      <td>2013</td>\n",
              "      <td>239</td>\n",
              "      <td>0</td>\n",
              "      <td>1.000000</td>\n",
              "      <td>1</td>\n",
              "      <td>0</td>\n",
              "      <td>2</td>\n",
              "      <td>43688563.0</td>\n",
              "      <td>white</td>\n",
              "    </tr>\n",
              "    <tr>\n",
              "      <th>9996</th>\n",
              "      <td>9996</td>\n",
              "      <td>1FLdecqvXrv6LzCVmKqwFR8Mkf1Lk6MB4b</td>\n",
              "      <td>2013</td>\n",
              "      <td>239</td>\n",
              "      <td>144</td>\n",
              "      <td>0.024036</td>\n",
              "      <td>837</td>\n",
              "      <td>0</td>\n",
              "      <td>2</td>\n",
              "      <td>117026433.0</td>\n",
              "      <td>white</td>\n",
              "    </tr>\n",
              "    <tr>\n",
              "      <th>9997</th>\n",
              "      <td>9997</td>\n",
              "      <td>1CMhMomtXDyi4rXycHabpJ6hYg3meBnWyi</td>\n",
              "      <td>2013</td>\n",
              "      <td>239</td>\n",
              "      <td>0</td>\n",
              "      <td>1.000000</td>\n",
              "      <td>1</td>\n",
              "      <td>0</td>\n",
              "      <td>1</td>\n",
              "      <td>110340000.0</td>\n",
              "      <td>white</td>\n",
              "    </tr>\n",
              "    <tr>\n",
              "      <th>9998</th>\n",
              "      <td>9998</td>\n",
              "      <td>1PKKeW4HWW5zSJig1wNnLKMACdSRVGY14f</td>\n",
              "      <td>2013</td>\n",
              "      <td>239</td>\n",
              "      <td>144</td>\n",
              "      <td>1.586079</td>\n",
              "      <td>1953</td>\n",
              "      <td>1</td>\n",
              "      <td>3</td>\n",
              "      <td>299630000.0</td>\n",
              "      <td>white</td>\n",
              "    </tr>\n",
              "    <tr>\n",
              "      <th>9999</th>\n",
              "      <td>9999</td>\n",
              "      <td>1ALT89skLDioJwiGrViB4Q9Uz6tF8haVhw</td>\n",
              "      <td>2013</td>\n",
              "      <td>239</td>\n",
              "      <td>8</td>\n",
              "      <td>0.250000</td>\n",
              "      <td>1</td>\n",
              "      <td>0</td>\n",
              "      <td>2</td>\n",
              "      <td>252000000.0</td>\n",
              "      <td>white</td>\n",
              "    </tr>\n",
              "  </tbody>\n",
              "</table>\n",
              "</div>\n",
              "      <button class=\"colab-df-convert\" onclick=\"convertToInteractive('df-66114f0e-83f4-418b-abd4-1f7e1c8fdfde')\"\n",
              "              title=\"Convert this dataframe to an interactive table.\"\n",
              "              style=\"display:none;\">\n",
              "        \n",
              "  <svg xmlns=\"http://www.w3.org/2000/svg\" height=\"24px\"viewBox=\"0 0 24 24\"\n",
              "       width=\"24px\">\n",
              "    <path d=\"M0 0h24v24H0V0z\" fill=\"none\"/>\n",
              "    <path d=\"M18.56 5.44l.94 2.06.94-2.06 2.06-.94-2.06-.94-.94-2.06-.94 2.06-2.06.94zm-11 1L8.5 8.5l.94-2.06 2.06-.94-2.06-.94L8.5 2.5l-.94 2.06-2.06.94zm10 10l.94 2.06.94-2.06 2.06-.94-2.06-.94-.94-2.06-.94 2.06-2.06.94z\"/><path d=\"M17.41 7.96l-1.37-1.37c-.4-.4-.92-.59-1.43-.59-.52 0-1.04.2-1.43.59L10.3 9.45l-7.72 7.72c-.78.78-.78 2.05 0 2.83L4 21.41c.39.39.9.59 1.41.59.51 0 1.02-.2 1.41-.59l7.78-7.78 2.81-2.81c.8-.78.8-2.07 0-2.86zM5.41 20L4 18.59l7.72-7.72 1.47 1.35L5.41 20z\"/>\n",
              "  </svg>\n",
              "      </button>\n",
              "      \n",
              "  <style>\n",
              "    .colab-df-container {\n",
              "      display:flex;\n",
              "      flex-wrap:wrap;\n",
              "      gap: 12px;\n",
              "    }\n",
              "\n",
              "    .colab-df-convert {\n",
              "      background-color: #E8F0FE;\n",
              "      border: none;\n",
              "      border-radius: 50%;\n",
              "      cursor: pointer;\n",
              "      display: none;\n",
              "      fill: #1967D2;\n",
              "      height: 32px;\n",
              "      padding: 0 0 0 0;\n",
              "      width: 32px;\n",
              "    }\n",
              "\n",
              "    .colab-df-convert:hover {\n",
              "      background-color: #E2EBFA;\n",
              "      box-shadow: 0px 1px 2px rgba(60, 64, 67, 0.3), 0px 1px 3px 1px rgba(60, 64, 67, 0.15);\n",
              "      fill: #174EA6;\n",
              "    }\n",
              "\n",
              "    [theme=dark] .colab-df-convert {\n",
              "      background-color: #3B4455;\n",
              "      fill: #D2E3FC;\n",
              "    }\n",
              "\n",
              "    [theme=dark] .colab-df-convert:hover {\n",
              "      background-color: #434B5C;\n",
              "      box-shadow: 0px 1px 3px 1px rgba(0, 0, 0, 0.15);\n",
              "      filter: drop-shadow(0px 1px 2px rgba(0, 0, 0, 0.3));\n",
              "      fill: #FFFFFF;\n",
              "    }\n",
              "  </style>\n",
              "\n",
              "      <script>\n",
              "        const buttonEl =\n",
              "          document.querySelector('#df-66114f0e-83f4-418b-abd4-1f7e1c8fdfde button.colab-df-convert');\n",
              "        buttonEl.style.display =\n",
              "          google.colab.kernel.accessAllowed ? 'block' : 'none';\n",
              "\n",
              "        async function convertToInteractive(key) {\n",
              "          const element = document.querySelector('#df-66114f0e-83f4-418b-abd4-1f7e1c8fdfde');\n",
              "          const dataTable =\n",
              "            await google.colab.kernel.invokeFunction('convertToInteractive',\n",
              "                                                     [key], {});\n",
              "          if (!dataTable) return;\n",
              "\n",
              "          const docLinkHtml = 'Like what you see? Visit the ' +\n",
              "            '<a target=\"_blank\" href=https://colab.research.google.com/notebooks/data_table.ipynb>data table notebook</a>'\n",
              "            + ' to learn more about interactive tables.';\n",
              "          element.innerHTML = '';\n",
              "          dataTable['output_type'] = 'display_data';\n",
              "          await google.colab.output.renderOutput(dataTable, element);\n",
              "          const docLink = document.createElement('div');\n",
              "          docLink.innerHTML = docLinkHtml;\n",
              "          element.appendChild(docLink);\n",
              "        }\n",
              "      </script>\n",
              "    </div>\n",
              "  </div>\n",
              "  "
            ]
          },
          "metadata": {},
          "execution_count": 5
        }
      ]
    },
    {
      "cell_type": "code",
      "source": [
        "print('Number of rows, columns:',df.shape,'\\n\\nDescriptive statistics:\\n')\n",
        "df.describe()"
      ],
      "metadata": {
        "colab": {
          "base_uri": "https://localhost:8080/",
          "height": 365
        },
        "id": "9MOy9_ZDMZ9C",
        "outputId": "f01d4dc6-d09b-4dcb-848b-49fb38fa4e48"
      },
      "execution_count": 14,
      "outputs": [
        {
          "output_type": "stream",
          "name": "stdout",
          "text": [
            "Number of rows, columns: (10000, 11) \n",
            "\n",
            "Descriptive statistics:\n",
            "\n"
          ]
        },
        {
          "output_type": "execute_result",
          "data": {
            "text/plain": [
              "        Unnamed: 0          year          day        length        weight  \\\n",
              "count  10000.00000  10000.000000  10000.00000  10000.000000  1.000000e+04   \n",
              "mean    4999.50000   2012.010200    168.51550     26.469600  4.760423e-01   \n",
              "std     2886.89568      1.002096    100.60638     42.644293  1.537253e+00   \n",
              "min        0.00000   2011.000000      1.00000      0.000000  5.370000e-87   \n",
              "25%     2499.75000   2011.000000     83.00000      0.000000  1.667722e-02   \n",
              "50%     4999.50000   2012.000000    161.00000      6.000000  2.500000e-01   \n",
              "75%     7499.25000   2013.000000    247.00000     30.000000  5.159341e-01   \n",
              "max     9999.00000   2017.000000    365.00000    144.000000  9.142633e+01   \n",
              "\n",
              "              count        looped     neighbors        income  \n",
              "count  10000.000000  10000.000000  10000.000000  1.000000e+04  \n",
              "mean     155.662700     33.248200      2.070100  8.283047e+09  \n",
              "std      592.082094    267.383939     10.863839  1.050166e+11  \n",
              "min        1.000000      0.000000      1.000000  3.000000e+07  \n",
              "25%        1.000000      0.000000      1.000000  1.090000e+08  \n",
              "50%        1.000000      0.000000      2.000000  5.070000e+08  \n",
              "75%       10.000000      0.000000      2.000000  2.543000e+09  \n",
              "max     8644.000000   4668.000000    592.000000  5.500000e+12  "
            ],
            "text/html": [
              "\n",
              "  <div id=\"df-d461b7d0-635f-4f27-98d0-1f51cb0efa55\">\n",
              "    <div class=\"colab-df-container\">\n",
              "      <div>\n",
              "<style scoped>\n",
              "    .dataframe tbody tr th:only-of-type {\n",
              "        vertical-align: middle;\n",
              "    }\n",
              "\n",
              "    .dataframe tbody tr th {\n",
              "        vertical-align: top;\n",
              "    }\n",
              "\n",
              "    .dataframe thead th {\n",
              "        text-align: right;\n",
              "    }\n",
              "</style>\n",
              "<table border=\"1\" class=\"dataframe\">\n",
              "  <thead>\n",
              "    <tr style=\"text-align: right;\">\n",
              "      <th></th>\n",
              "      <th>Unnamed: 0</th>\n",
              "      <th>year</th>\n",
              "      <th>day</th>\n",
              "      <th>length</th>\n",
              "      <th>weight</th>\n",
              "      <th>count</th>\n",
              "      <th>looped</th>\n",
              "      <th>neighbors</th>\n",
              "      <th>income</th>\n",
              "    </tr>\n",
              "  </thead>\n",
              "  <tbody>\n",
              "    <tr>\n",
              "      <th>count</th>\n",
              "      <td>10000.00000</td>\n",
              "      <td>10000.000000</td>\n",
              "      <td>10000.00000</td>\n",
              "      <td>10000.000000</td>\n",
              "      <td>1.000000e+04</td>\n",
              "      <td>10000.000000</td>\n",
              "      <td>10000.000000</td>\n",
              "      <td>10000.000000</td>\n",
              "      <td>1.000000e+04</td>\n",
              "    </tr>\n",
              "    <tr>\n",
              "      <th>mean</th>\n",
              "      <td>4999.50000</td>\n",
              "      <td>2012.010200</td>\n",
              "      <td>168.51550</td>\n",
              "      <td>26.469600</td>\n",
              "      <td>4.760423e-01</td>\n",
              "      <td>155.662700</td>\n",
              "      <td>33.248200</td>\n",
              "      <td>2.070100</td>\n",
              "      <td>8.283047e+09</td>\n",
              "    </tr>\n",
              "    <tr>\n",
              "      <th>std</th>\n",
              "      <td>2886.89568</td>\n",
              "      <td>1.002096</td>\n",
              "      <td>100.60638</td>\n",
              "      <td>42.644293</td>\n",
              "      <td>1.537253e+00</td>\n",
              "      <td>592.082094</td>\n",
              "      <td>267.383939</td>\n",
              "      <td>10.863839</td>\n",
              "      <td>1.050166e+11</td>\n",
              "    </tr>\n",
              "    <tr>\n",
              "      <th>min</th>\n",
              "      <td>0.00000</td>\n",
              "      <td>2011.000000</td>\n",
              "      <td>1.00000</td>\n",
              "      <td>0.000000</td>\n",
              "      <td>5.370000e-87</td>\n",
              "      <td>1.000000</td>\n",
              "      <td>0.000000</td>\n",
              "      <td>1.000000</td>\n",
              "      <td>3.000000e+07</td>\n",
              "    </tr>\n",
              "    <tr>\n",
              "      <th>25%</th>\n",
              "      <td>2499.75000</td>\n",
              "      <td>2011.000000</td>\n",
              "      <td>83.00000</td>\n",
              "      <td>0.000000</td>\n",
              "      <td>1.667722e-02</td>\n",
              "      <td>1.000000</td>\n",
              "      <td>0.000000</td>\n",
              "      <td>1.000000</td>\n",
              "      <td>1.090000e+08</td>\n",
              "    </tr>\n",
              "    <tr>\n",
              "      <th>50%</th>\n",
              "      <td>4999.50000</td>\n",
              "      <td>2012.000000</td>\n",
              "      <td>161.00000</td>\n",
              "      <td>6.000000</td>\n",
              "      <td>2.500000e-01</td>\n",
              "      <td>1.000000</td>\n",
              "      <td>0.000000</td>\n",
              "      <td>2.000000</td>\n",
              "      <td>5.070000e+08</td>\n",
              "    </tr>\n",
              "    <tr>\n",
              "      <th>75%</th>\n",
              "      <td>7499.25000</td>\n",
              "      <td>2013.000000</td>\n",
              "      <td>247.00000</td>\n",
              "      <td>30.000000</td>\n",
              "      <td>5.159341e-01</td>\n",
              "      <td>10.000000</td>\n",
              "      <td>0.000000</td>\n",
              "      <td>2.000000</td>\n",
              "      <td>2.543000e+09</td>\n",
              "    </tr>\n",
              "    <tr>\n",
              "      <th>max</th>\n",
              "      <td>9999.00000</td>\n",
              "      <td>2017.000000</td>\n",
              "      <td>365.00000</td>\n",
              "      <td>144.000000</td>\n",
              "      <td>9.142633e+01</td>\n",
              "      <td>8644.000000</td>\n",
              "      <td>4668.000000</td>\n",
              "      <td>592.000000</td>\n",
              "      <td>5.500000e+12</td>\n",
              "    </tr>\n",
              "  </tbody>\n",
              "</table>\n",
              "</div>\n",
              "      <button class=\"colab-df-convert\" onclick=\"convertToInteractive('df-d461b7d0-635f-4f27-98d0-1f51cb0efa55')\"\n",
              "              title=\"Convert this dataframe to an interactive table.\"\n",
              "              style=\"display:none;\">\n",
              "        \n",
              "  <svg xmlns=\"http://www.w3.org/2000/svg\" height=\"24px\"viewBox=\"0 0 24 24\"\n",
              "       width=\"24px\">\n",
              "    <path d=\"M0 0h24v24H0V0z\" fill=\"none\"/>\n",
              "    <path d=\"M18.56 5.44l.94 2.06.94-2.06 2.06-.94-2.06-.94-.94-2.06-.94 2.06-2.06.94zm-11 1L8.5 8.5l.94-2.06 2.06-.94-2.06-.94L8.5 2.5l-.94 2.06-2.06.94zm10 10l.94 2.06.94-2.06 2.06-.94-2.06-.94-.94-2.06-.94 2.06-2.06.94z\"/><path d=\"M17.41 7.96l-1.37-1.37c-.4-.4-.92-.59-1.43-.59-.52 0-1.04.2-1.43.59L10.3 9.45l-7.72 7.72c-.78.78-.78 2.05 0 2.83L4 21.41c.39.39.9.59 1.41.59.51 0 1.02-.2 1.41-.59l7.78-7.78 2.81-2.81c.8-.78.8-2.07 0-2.86zM5.41 20L4 18.59l7.72-7.72 1.47 1.35L5.41 20z\"/>\n",
              "  </svg>\n",
              "      </button>\n",
              "      \n",
              "  <style>\n",
              "    .colab-df-container {\n",
              "      display:flex;\n",
              "      flex-wrap:wrap;\n",
              "      gap: 12px;\n",
              "    }\n",
              "\n",
              "    .colab-df-convert {\n",
              "      background-color: #E8F0FE;\n",
              "      border: none;\n",
              "      border-radius: 50%;\n",
              "      cursor: pointer;\n",
              "      display: none;\n",
              "      fill: #1967D2;\n",
              "      height: 32px;\n",
              "      padding: 0 0 0 0;\n",
              "      width: 32px;\n",
              "    }\n",
              "\n",
              "    .colab-df-convert:hover {\n",
              "      background-color: #E2EBFA;\n",
              "      box-shadow: 0px 1px 2px rgba(60, 64, 67, 0.3), 0px 1px 3px 1px rgba(60, 64, 67, 0.15);\n",
              "      fill: #174EA6;\n",
              "    }\n",
              "\n",
              "    [theme=dark] .colab-df-convert {\n",
              "      background-color: #3B4455;\n",
              "      fill: #D2E3FC;\n",
              "    }\n",
              "\n",
              "    [theme=dark] .colab-df-convert:hover {\n",
              "      background-color: #434B5C;\n",
              "      box-shadow: 0px 1px 3px 1px rgba(0, 0, 0, 0.15);\n",
              "      filter: drop-shadow(0px 1px 2px rgba(0, 0, 0, 0.3));\n",
              "      fill: #FFFFFF;\n",
              "    }\n",
              "  </style>\n",
              "\n",
              "      <script>\n",
              "        const buttonEl =\n",
              "          document.querySelector('#df-d461b7d0-635f-4f27-98d0-1f51cb0efa55 button.colab-df-convert');\n",
              "        buttonEl.style.display =\n",
              "          google.colab.kernel.accessAllowed ? 'block' : 'none';\n",
              "\n",
              "        async function convertToInteractive(key) {\n",
              "          const element = document.querySelector('#df-d461b7d0-635f-4f27-98d0-1f51cb0efa55');\n",
              "          const dataTable =\n",
              "            await google.colab.kernel.invokeFunction('convertToInteractive',\n",
              "                                                     [key], {});\n",
              "          if (!dataTable) return;\n",
              "\n",
              "          const docLinkHtml = 'Like what you see? Visit the ' +\n",
              "            '<a target=\"_blank\" href=https://colab.research.google.com/notebooks/data_table.ipynb>data table notebook</a>'\n",
              "            + ' to learn more about interactive tables.';\n",
              "          element.innerHTML = '';\n",
              "          dataTable['output_type'] = 'display_data';\n",
              "          await google.colab.output.renderOutput(dataTable, element);\n",
              "          const docLink = document.createElement('div');\n",
              "          docLink.innerHTML = docLinkHtml;\n",
              "          element.appendChild(docLink);\n",
              "        }\n",
              "      </script>\n",
              "    </div>\n",
              "  </div>\n",
              "  "
            ]
          },
          "metadata": {},
          "execution_count": 14
        }
      ]
    },
    {
      "cell_type": "code",
      "metadata": {
        "colab": {
          "base_uri": "https://localhost:8080/"
        },
        "id": "6Mnj5SqxPYqA",
        "outputId": "6318f55c-e571-4108-8882-51bb61fd2fac"
      },
      "source": [
        "# Display column names\n",
        "df.columns"
      ],
      "execution_count": 16,
      "outputs": [
        {
          "output_type": "execute_result",
          "data": {
            "text/plain": [
              "Index(['Unnamed: 0', 'address', 'year', 'day', 'length', 'weight', 'count',\n",
              "       'looped', 'neighbors', 'income', 'label'],\n",
              "      dtype='object')"
            ]
          },
          "metadata": {},
          "execution_count": 16
        }
      ]
    },
    {
      "cell_type": "markdown",
      "metadata": {
        "id": "oLnDd2iAY6jE"
      },
      "source": [
        "### Clean/Modify as required"
      ]
    },
    {
      "cell_type": "code",
      "source": [
        "# Check for nulls\n",
        "if df.isnull().sum().sum()==0:\n",
        "  print('No nulls found')\n",
        "else:\n",
        "  print('Need to address nulls')\n",
        "\n",
        "# Check for duplicate rows\n",
        "print('Number of duplicate rows:', df.duplicated().sum())"
      ],
      "metadata": {
        "colab": {
          "base_uri": "https://localhost:8080/"
        },
        "id": "a42J1M-YD1SQ",
        "outputId": "dd515cd8-7d2e-4aca-9647-cd4bfb6616ac"
      },
      "execution_count": 19,
      "outputs": [
        {
          "output_type": "stream",
          "name": "stdout",
          "text": [
            "No nulls found\n",
            "Number of duplicate rows: 0\n"
          ]
        }
      ]
    },
    {
      "cell_type": "code",
      "source": [
        "#from numpy import NaN\n",
        "#   TEST CELL Will remove\n",
        "\n",
        "data = [['tom', 10], ['nick', 15], ['julie', 14],['sara', 10],['bob',12],['bob',12]]\n",
        "df_test = pd.DataFrame(data, columns = ['Name', 'Age'])\n",
        "#df_test.duplicated().value_counts()\n",
        "#s = df_test.duplicated().value_counts()\n",
        "#print('Number of duplicate rows:',df_test.duplicated().sum())\n",
        "#df_test.isnull().sum().sum()\n",
        "#my_list = s.tolist()\n",
        "#print(s)\n",
        "#if df_test.shape[0] == s.count() : print ('True')\n",
        "\n",
        "# Check for nulls\n",
        "if df_test.isnull().sum().sum()==0:\n",
        "  print('No nulls found')\n",
        "else:\n",
        "  print('Need to address nulls')\n"
      ],
      "metadata": {
        "id": "-43fem9NHvbZ"
      },
      "execution_count": null,
      "outputs": []
    },
    {
      "cell_type": "code",
      "source": [
        "# column names & types\n",
        "print(df.info())"
      ],
      "metadata": {
        "colab": {
          "base_uri": "https://localhost:8080/"
        },
        "id": "rCnGLPuGVOZG",
        "outputId": "366e2f53-0929-4bed-c40f-b5993abb0abc"
      },
      "execution_count": 20,
      "outputs": [
        {
          "output_type": "stream",
          "name": "stdout",
          "text": [
            "<class 'pandas.core.frame.DataFrame'>\n",
            "RangeIndex: 10000 entries, 0 to 9999\n",
            "Data columns (total 11 columns):\n",
            " #   Column      Non-Null Count  Dtype  \n",
            "---  ------      --------------  -----  \n",
            " 0   Unnamed: 0  10000 non-null  int64  \n",
            " 1   address     10000 non-null  object \n",
            " 2   year        10000 non-null  int64  \n",
            " 3   day         10000 non-null  int64  \n",
            " 4   length      10000 non-null  int64  \n",
            " 5   weight      10000 non-null  float64\n",
            " 6   count       10000 non-null  int64  \n",
            " 7   looped      10000 non-null  int64  \n",
            " 8   neighbors   10000 non-null  int64  \n",
            " 9   income      10000 non-null  float64\n",
            " 10  label       10000 non-null  object \n",
            "dtypes: float64(2), int64(7), object(2)\n",
            "memory usage: 859.5+ KB\n",
            "None\n"
          ]
        }
      ]
    },
    {
      "cell_type": "code",
      "metadata": {
        "colab": {
          "base_uri": "https://localhost:8080/"
        },
        "id": "yxe5UARVQIeZ",
        "outputId": "08122d06-3532-490b-952e-6117ce91493d"
      },
      "source": [
        "# Dimensionality reduction: \n",
        "#   Create new dataframe, without 'address' and 'Unnamed: 0' columns\n",
        "df_mod1 = df.drop(['address', 'Unnamed: 0'], axis=1)\n",
        "df_mod1.dtypes"
      ],
      "execution_count": 21,
      "outputs": [
        {
          "output_type": "execute_result",
          "data": {
            "text/plain": [
              "year           int64\n",
              "day            int64\n",
              "length         int64\n",
              "weight       float64\n",
              "count          int64\n",
              "looped         int64\n",
              "neighbors      int64\n",
              "income       float64\n",
              "label         object\n",
              "dtype: object"
            ]
          },
          "metadata": {},
          "execution_count": 21
        }
      ]
    },
    {
      "cell_type": "code",
      "source": [
        "df_mod1.head()"
      ],
      "metadata": {
        "colab": {
          "base_uri": "https://localhost:8080/",
          "height": 204
        },
        "id": "sJLGXH5oUlJD",
        "outputId": "08c6ad30-6d24-4145-f599-dffde6d2351b"
      },
      "execution_count": 22,
      "outputs": [
        {
          "output_type": "execute_result",
          "data": {
            "text/plain": [
              "   year  day  length        weight  count  looped  neighbors       income  \\\n",
              "0  2017  141       0  1.000000e+00      1       0          1   30627600.0   \n",
              "1  2016  161       0  5.000000e-01      1       0          2  120000000.0   \n",
              "2  2014   92       6  4.500000e-02      2       0          1   70000000.0   \n",
              "3  2013  331     144  5.060000e-12   5773       0          1   50000000.0   \n",
              "4  2014  167       2  1.000000e+00      2       0          1   84080812.0   \n",
              "\n",
              "                  label  \n",
              "0      montrealWannaCry  \n",
              "1      montrealCryptXXX  \n",
              "2       paduaCryptoWall  \n",
              "3  montrealCryptoLocker  \n",
              "4       paduaCryptoWall  "
            ],
            "text/html": [
              "\n",
              "  <div id=\"df-34876a7e-b291-4c49-9dfa-98e45547c18f\">\n",
              "    <div class=\"colab-df-container\">\n",
              "      <div>\n",
              "<style scoped>\n",
              "    .dataframe tbody tr th:only-of-type {\n",
              "        vertical-align: middle;\n",
              "    }\n",
              "\n",
              "    .dataframe tbody tr th {\n",
              "        vertical-align: top;\n",
              "    }\n",
              "\n",
              "    .dataframe thead th {\n",
              "        text-align: right;\n",
              "    }\n",
              "</style>\n",
              "<table border=\"1\" class=\"dataframe\">\n",
              "  <thead>\n",
              "    <tr style=\"text-align: right;\">\n",
              "      <th></th>\n",
              "      <th>year</th>\n",
              "      <th>day</th>\n",
              "      <th>length</th>\n",
              "      <th>weight</th>\n",
              "      <th>count</th>\n",
              "      <th>looped</th>\n",
              "      <th>neighbors</th>\n",
              "      <th>income</th>\n",
              "      <th>label</th>\n",
              "    </tr>\n",
              "  </thead>\n",
              "  <tbody>\n",
              "    <tr>\n",
              "      <th>0</th>\n",
              "      <td>2017</td>\n",
              "      <td>141</td>\n",
              "      <td>0</td>\n",
              "      <td>1.000000e+00</td>\n",
              "      <td>1</td>\n",
              "      <td>0</td>\n",
              "      <td>1</td>\n",
              "      <td>30627600.0</td>\n",
              "      <td>montrealWannaCry</td>\n",
              "    </tr>\n",
              "    <tr>\n",
              "      <th>1</th>\n",
              "      <td>2016</td>\n",
              "      <td>161</td>\n",
              "      <td>0</td>\n",
              "      <td>5.000000e-01</td>\n",
              "      <td>1</td>\n",
              "      <td>0</td>\n",
              "      <td>2</td>\n",
              "      <td>120000000.0</td>\n",
              "      <td>montrealCryptXXX</td>\n",
              "    </tr>\n",
              "    <tr>\n",
              "      <th>2</th>\n",
              "      <td>2014</td>\n",
              "      <td>92</td>\n",
              "      <td>6</td>\n",
              "      <td>4.500000e-02</td>\n",
              "      <td>2</td>\n",
              "      <td>0</td>\n",
              "      <td>1</td>\n",
              "      <td>70000000.0</td>\n",
              "      <td>paduaCryptoWall</td>\n",
              "    </tr>\n",
              "    <tr>\n",
              "      <th>3</th>\n",
              "      <td>2013</td>\n",
              "      <td>331</td>\n",
              "      <td>144</td>\n",
              "      <td>5.060000e-12</td>\n",
              "      <td>5773</td>\n",
              "      <td>0</td>\n",
              "      <td>1</td>\n",
              "      <td>50000000.0</td>\n",
              "      <td>montrealCryptoLocker</td>\n",
              "    </tr>\n",
              "    <tr>\n",
              "      <th>4</th>\n",
              "      <td>2014</td>\n",
              "      <td>167</td>\n",
              "      <td>2</td>\n",
              "      <td>1.000000e+00</td>\n",
              "      <td>2</td>\n",
              "      <td>0</td>\n",
              "      <td>1</td>\n",
              "      <td>84080812.0</td>\n",
              "      <td>paduaCryptoWall</td>\n",
              "    </tr>\n",
              "  </tbody>\n",
              "</table>\n",
              "</div>\n",
              "      <button class=\"colab-df-convert\" onclick=\"convertToInteractive('df-34876a7e-b291-4c49-9dfa-98e45547c18f')\"\n",
              "              title=\"Convert this dataframe to an interactive table.\"\n",
              "              style=\"display:none;\">\n",
              "        \n",
              "  <svg xmlns=\"http://www.w3.org/2000/svg\" height=\"24px\"viewBox=\"0 0 24 24\"\n",
              "       width=\"24px\">\n",
              "    <path d=\"M0 0h24v24H0V0z\" fill=\"none\"/>\n",
              "    <path d=\"M18.56 5.44l.94 2.06.94-2.06 2.06-.94-2.06-.94-.94-2.06-.94 2.06-2.06.94zm-11 1L8.5 8.5l.94-2.06 2.06-.94-2.06-.94L8.5 2.5l-.94 2.06-2.06.94zm10 10l.94 2.06.94-2.06 2.06-.94-2.06-.94-.94-2.06-.94 2.06-2.06.94z\"/><path d=\"M17.41 7.96l-1.37-1.37c-.4-.4-.92-.59-1.43-.59-.52 0-1.04.2-1.43.59L10.3 9.45l-7.72 7.72c-.78.78-.78 2.05 0 2.83L4 21.41c.39.39.9.59 1.41.59.51 0 1.02-.2 1.41-.59l7.78-7.78 2.81-2.81c.8-.78.8-2.07 0-2.86zM5.41 20L4 18.59l7.72-7.72 1.47 1.35L5.41 20z\"/>\n",
              "  </svg>\n",
              "      </button>\n",
              "      \n",
              "  <style>\n",
              "    .colab-df-container {\n",
              "      display:flex;\n",
              "      flex-wrap:wrap;\n",
              "      gap: 12px;\n",
              "    }\n",
              "\n",
              "    .colab-df-convert {\n",
              "      background-color: #E8F0FE;\n",
              "      border: none;\n",
              "      border-radius: 50%;\n",
              "      cursor: pointer;\n",
              "      display: none;\n",
              "      fill: #1967D2;\n",
              "      height: 32px;\n",
              "      padding: 0 0 0 0;\n",
              "      width: 32px;\n",
              "    }\n",
              "\n",
              "    .colab-df-convert:hover {\n",
              "      background-color: #E2EBFA;\n",
              "      box-shadow: 0px 1px 2px rgba(60, 64, 67, 0.3), 0px 1px 3px 1px rgba(60, 64, 67, 0.15);\n",
              "      fill: #174EA6;\n",
              "    }\n",
              "\n",
              "    [theme=dark] .colab-df-convert {\n",
              "      background-color: #3B4455;\n",
              "      fill: #D2E3FC;\n",
              "    }\n",
              "\n",
              "    [theme=dark] .colab-df-convert:hover {\n",
              "      background-color: #434B5C;\n",
              "      box-shadow: 0px 1px 3px 1px rgba(0, 0, 0, 0.15);\n",
              "      filter: drop-shadow(0px 1px 2px rgba(0, 0, 0, 0.3));\n",
              "      fill: #FFFFFF;\n",
              "    }\n",
              "  </style>\n",
              "\n",
              "      <script>\n",
              "        const buttonEl =\n",
              "          document.querySelector('#df-34876a7e-b291-4c49-9dfa-98e45547c18f button.colab-df-convert');\n",
              "        buttonEl.style.display =\n",
              "          google.colab.kernel.accessAllowed ? 'block' : 'none';\n",
              "\n",
              "        async function convertToInteractive(key) {\n",
              "          const element = document.querySelector('#df-34876a7e-b291-4c49-9dfa-98e45547c18f');\n",
              "          const dataTable =\n",
              "            await google.colab.kernel.invokeFunction('convertToInteractive',\n",
              "                                                     [key], {});\n",
              "          if (!dataTable) return;\n",
              "\n",
              "          const docLinkHtml = 'Like what you see? Visit the ' +\n",
              "            '<a target=\"_blank\" href=https://colab.research.google.com/notebooks/data_table.ipynb>data table notebook</a>'\n",
              "            + ' to learn more about interactive tables.';\n",
              "          element.innerHTML = '';\n",
              "          dataTable['output_type'] = 'display_data';\n",
              "          await google.colab.output.renderOutput(dataTable, element);\n",
              "          const docLink = document.createElement('div');\n",
              "          docLink.innerHTML = docLinkHtml;\n",
              "          element.appendChild(docLink);\n",
              "        }\n",
              "      </script>\n",
              "    </div>\n",
              "  </div>\n",
              "  "
            ]
          },
          "metadata": {},
          "execution_count": 22
        }
      ]
    },
    {
      "cell_type": "code",
      "source": [
        "# Will remove - this is now in cell below\n",
        "\n",
        "# For values in label column remove text 'padua', 'montreal', 'princeton' \n",
        "\n",
        "\n",
        "# Q: do I really need an new/extra dataframe? \n",
        "#    the new datafame does let me print the diff in cell below\n",
        "df_mod2 = df_mod1.copy()\n",
        "\n",
        "df_mod2['label'] = df_mod2['label'].replace({'padua' : \"\" }, regex=True)\n",
        "df_mod2['label'] = df_mod2['label'].replace({'montreal' : \"\" }, regex=True)\n",
        "df_mod2['label'] = df_mod2['label'].replace({'princeton' : \"\" }, regex=True)"
      ],
      "metadata": {
        "id": "MLErWlswVOMY"
      },
      "execution_count": null,
      "outputs": []
    },
    {
      "cell_type": "code",
      "source": [
        "# For values in label column remove text 'padua', 'montreal', 'princeton' \n",
        "\n",
        "print('*** Before cleaning...')\n",
        "print(df_mod1['label'].value_counts())\n",
        "\n",
        "df_mod1['label'] = df_mod1['label'].replace({'padua' : \"\" }, regex=True)\n",
        "df_mod1['label'] = df_mod1['label'].replace({'montreal' : \"\" }, regex=True)\n",
        "df_mod1['label'] = df_mod1['label'].replace({'princeton' : \"\" }, regex=True)\n",
        "\n",
        "print('\\n*** After cleaning...')\n",
        "print(df_mod1['label'].value_counts())"
      ],
      "metadata": {
        "colab": {
          "base_uri": "https://localhost:8080/"
        },
        "id": "TPdRYboQKh0H",
        "outputId": "860c9825-e840-4334-fd08-e946b2085a0b"
      },
      "execution_count": 23,
      "outputs": [
        {
          "output_type": "stream",
          "name": "stdout",
          "text": [
            "*** Before cleaning...\n",
            "white                    9583\n",
            "paduaCryptoWall           137\n",
            "montrealCryptoLocker       90\n",
            "princetonCerber            85\n",
            "princetonLocky             72\n",
            "montrealCryptXXX           25\n",
            "montrealDMALockerv3         3\n",
            "montrealGlobeImposter       2\n",
            "montrealWannaCry            1\n",
            "montrealVenusLocker         1\n",
            "montrealNoobCrypt           1\n",
            "Name: label, dtype: int64\n",
            "\n",
            "*** After cleaning...\n",
            "white            9583\n",
            "CryptoWall        137\n",
            "CryptoLocker       90\n",
            "Cerber             85\n",
            "Locky              72\n",
            "CryptXXX           25\n",
            "DMALockerv3         3\n",
            "GlobeImposter       2\n",
            "WannaCry            1\n",
            "VenusLocker         1\n",
            "NoobCrypt           1\n",
            "Name: label, dtype: int64\n"
          ]
        }
      ]
    },
    {
      "cell_type": "code",
      "source": [
        "# Will remove, now in cell above\n",
        "\n",
        "# Print count for label values...\n",
        "print('*** Before cleaning...')\n",
        "print(df_mod1['label'].value_counts())\n",
        "del df_mod1\n",
        "\n",
        "print('\\n*** After cleaning...')\n",
        "print(df_mod2['label'].value_counts())"
      ],
      "metadata": {
        "colab": {
          "base_uri": "https://localhost:8080/"
        },
        "id": "k_63tkmo3lWQ",
        "outputId": "fb9efbe6-013e-4a02-d623-5c037ce12875"
      },
      "execution_count": null,
      "outputs": [
        {
          "output_type": "stream",
          "name": "stdout",
          "text": [
            "** Before cleaning...\n",
            "white                    9583\n",
            "paduaCryptoWall           137\n",
            "montrealCryptoLocker       90\n",
            "princetonCerber            85\n",
            "princetonLocky             72\n",
            "montrealCryptXXX           25\n",
            "montrealDMALockerv3         3\n",
            "montrealGlobeImposter       2\n",
            "montrealWannaCry            1\n",
            "montrealVenusLocker         1\n",
            "montrealNoobCrypt           1\n",
            "Name: label, dtype: int64\n",
            "\n",
            "** After cleaning...\n",
            "white            9583\n",
            "CryptoWall        137\n",
            "CryptoLocker       90\n",
            "Cerber             85\n",
            "Locky              72\n",
            "CryptXXX           25\n",
            "DMALockerv3         3\n",
            "GlobeImposter       2\n",
            "WannaCry            1\n",
            "VenusLocker         1\n",
            "NoobCrypt           1\n",
            "Name: label, dtype: int64\n"
          ]
        }
      ]
    },
    {
      "cell_type": "code",
      "source": [
        "# Convert all label values from text to numeric.  \n",
        "#  'white' should be made 0, while all other value in 'label' column should be 1\n",
        "#  (Instances for 'white' are not ransomware while the rest are ransomware)\n",
        "\n",
        "# set label w/value of white to 0 and all others to 1, convert column to int\n",
        "df_mod1.loc[df_mod1.label == 'white', 'label'] = 0\n",
        "df_mod1.loc[df_mod1.label != 0, 'label'] = 1\n",
        "df_mod1['label'] = df_mod1['label'].astype(str).astype(int)\n",
        "\n",
        "# verify\n",
        "print(df_mod1['label'].value_counts(),'\\n')\n",
        "df_mod1.dtypes"
      ],
      "metadata": {
        "colab": {
          "base_uri": "https://localhost:8080/"
        },
        "id": "7NYKta-LLXZ7",
        "outputId": "bddbf90f-6e0c-4987-845a-1d548847afdc"
      },
      "execution_count": 25,
      "outputs": [
        {
          "output_type": "stream",
          "name": "stdout",
          "text": [
            "0    9583\n",
            "1     417\n",
            "Name: label, dtype: int64 \n",
            "\n"
          ]
        },
        {
          "output_type": "execute_result",
          "data": {
            "text/plain": [
              "year           int64\n",
              "day            int64\n",
              "length         int64\n",
              "weight       float64\n",
              "count          int64\n",
              "looped         int64\n",
              "neighbors      int64\n",
              "income       float64\n",
              "label          int64\n",
              "dtype: object"
            ]
          },
          "metadata": {},
          "execution_count": 25
        }
      ]
    },
    {
      "cell_type": "code",
      "source": [
        "df_mod1.head()"
      ],
      "metadata": {
        "colab": {
          "base_uri": "https://localhost:8080/",
          "height": 204
        },
        "id": "3Wa-ekTkL1mC",
        "outputId": "736303a8-6db6-49a8-bc9f-d2903838785b"
      },
      "execution_count": 26,
      "outputs": [
        {
          "output_type": "execute_result",
          "data": {
            "text/plain": [
              "   year  day  length        weight  count  looped  neighbors       income  \\\n",
              "0  2017  141       0  1.000000e+00      1       0          1   30627600.0   \n",
              "1  2016  161       0  5.000000e-01      1       0          2  120000000.0   \n",
              "2  2014   92       6  4.500000e-02      2       0          1   70000000.0   \n",
              "3  2013  331     144  5.060000e-12   5773       0          1   50000000.0   \n",
              "4  2014  167       2  1.000000e+00      2       0          1   84080812.0   \n",
              "\n",
              "   label  \n",
              "0      1  \n",
              "1      1  \n",
              "2      1  \n",
              "3      1  \n",
              "4      1  "
            ],
            "text/html": [
              "\n",
              "  <div id=\"df-c965e26c-ee71-4a04-95fe-dc8b67e2ed2d\">\n",
              "    <div class=\"colab-df-container\">\n",
              "      <div>\n",
              "<style scoped>\n",
              "    .dataframe tbody tr th:only-of-type {\n",
              "        vertical-align: middle;\n",
              "    }\n",
              "\n",
              "    .dataframe tbody tr th {\n",
              "        vertical-align: top;\n",
              "    }\n",
              "\n",
              "    .dataframe thead th {\n",
              "        text-align: right;\n",
              "    }\n",
              "</style>\n",
              "<table border=\"1\" class=\"dataframe\">\n",
              "  <thead>\n",
              "    <tr style=\"text-align: right;\">\n",
              "      <th></th>\n",
              "      <th>year</th>\n",
              "      <th>day</th>\n",
              "      <th>length</th>\n",
              "      <th>weight</th>\n",
              "      <th>count</th>\n",
              "      <th>looped</th>\n",
              "      <th>neighbors</th>\n",
              "      <th>income</th>\n",
              "      <th>label</th>\n",
              "    </tr>\n",
              "  </thead>\n",
              "  <tbody>\n",
              "    <tr>\n",
              "      <th>0</th>\n",
              "      <td>2017</td>\n",
              "      <td>141</td>\n",
              "      <td>0</td>\n",
              "      <td>1.000000e+00</td>\n",
              "      <td>1</td>\n",
              "      <td>0</td>\n",
              "      <td>1</td>\n",
              "      <td>30627600.0</td>\n",
              "      <td>1</td>\n",
              "    </tr>\n",
              "    <tr>\n",
              "      <th>1</th>\n",
              "      <td>2016</td>\n",
              "      <td>161</td>\n",
              "      <td>0</td>\n",
              "      <td>5.000000e-01</td>\n",
              "      <td>1</td>\n",
              "      <td>0</td>\n",
              "      <td>2</td>\n",
              "      <td>120000000.0</td>\n",
              "      <td>1</td>\n",
              "    </tr>\n",
              "    <tr>\n",
              "      <th>2</th>\n",
              "      <td>2014</td>\n",
              "      <td>92</td>\n",
              "      <td>6</td>\n",
              "      <td>4.500000e-02</td>\n",
              "      <td>2</td>\n",
              "      <td>0</td>\n",
              "      <td>1</td>\n",
              "      <td>70000000.0</td>\n",
              "      <td>1</td>\n",
              "    </tr>\n",
              "    <tr>\n",
              "      <th>3</th>\n",
              "      <td>2013</td>\n",
              "      <td>331</td>\n",
              "      <td>144</td>\n",
              "      <td>5.060000e-12</td>\n",
              "      <td>5773</td>\n",
              "      <td>0</td>\n",
              "      <td>1</td>\n",
              "      <td>50000000.0</td>\n",
              "      <td>1</td>\n",
              "    </tr>\n",
              "    <tr>\n",
              "      <th>4</th>\n",
              "      <td>2014</td>\n",
              "      <td>167</td>\n",
              "      <td>2</td>\n",
              "      <td>1.000000e+00</td>\n",
              "      <td>2</td>\n",
              "      <td>0</td>\n",
              "      <td>1</td>\n",
              "      <td>84080812.0</td>\n",
              "      <td>1</td>\n",
              "    </tr>\n",
              "  </tbody>\n",
              "</table>\n",
              "</div>\n",
              "      <button class=\"colab-df-convert\" onclick=\"convertToInteractive('df-c965e26c-ee71-4a04-95fe-dc8b67e2ed2d')\"\n",
              "              title=\"Convert this dataframe to an interactive table.\"\n",
              "              style=\"display:none;\">\n",
              "        \n",
              "  <svg xmlns=\"http://www.w3.org/2000/svg\" height=\"24px\"viewBox=\"0 0 24 24\"\n",
              "       width=\"24px\">\n",
              "    <path d=\"M0 0h24v24H0V0z\" fill=\"none\"/>\n",
              "    <path d=\"M18.56 5.44l.94 2.06.94-2.06 2.06-.94-2.06-.94-.94-2.06-.94 2.06-2.06.94zm-11 1L8.5 8.5l.94-2.06 2.06-.94-2.06-.94L8.5 2.5l-.94 2.06-2.06.94zm10 10l.94 2.06.94-2.06 2.06-.94-2.06-.94-.94-2.06-.94 2.06-2.06.94z\"/><path d=\"M17.41 7.96l-1.37-1.37c-.4-.4-.92-.59-1.43-.59-.52 0-1.04.2-1.43.59L10.3 9.45l-7.72 7.72c-.78.78-.78 2.05 0 2.83L4 21.41c.39.39.9.59 1.41.59.51 0 1.02-.2 1.41-.59l7.78-7.78 2.81-2.81c.8-.78.8-2.07 0-2.86zM5.41 20L4 18.59l7.72-7.72 1.47 1.35L5.41 20z\"/>\n",
              "  </svg>\n",
              "      </button>\n",
              "      \n",
              "  <style>\n",
              "    .colab-df-container {\n",
              "      display:flex;\n",
              "      flex-wrap:wrap;\n",
              "      gap: 12px;\n",
              "    }\n",
              "\n",
              "    .colab-df-convert {\n",
              "      background-color: #E8F0FE;\n",
              "      border: none;\n",
              "      border-radius: 50%;\n",
              "      cursor: pointer;\n",
              "      display: none;\n",
              "      fill: #1967D2;\n",
              "      height: 32px;\n",
              "      padding: 0 0 0 0;\n",
              "      width: 32px;\n",
              "    }\n",
              "\n",
              "    .colab-df-convert:hover {\n",
              "      background-color: #E2EBFA;\n",
              "      box-shadow: 0px 1px 2px rgba(60, 64, 67, 0.3), 0px 1px 3px 1px rgba(60, 64, 67, 0.15);\n",
              "      fill: #174EA6;\n",
              "    }\n",
              "\n",
              "    [theme=dark] .colab-df-convert {\n",
              "      background-color: #3B4455;\n",
              "      fill: #D2E3FC;\n",
              "    }\n",
              "\n",
              "    [theme=dark] .colab-df-convert:hover {\n",
              "      background-color: #434B5C;\n",
              "      box-shadow: 0px 1px 3px 1px rgba(0, 0, 0, 0.15);\n",
              "      filter: drop-shadow(0px 1px 2px rgba(0, 0, 0, 0.3));\n",
              "      fill: #FFFFFF;\n",
              "    }\n",
              "  </style>\n",
              "\n",
              "      <script>\n",
              "        const buttonEl =\n",
              "          document.querySelector('#df-c965e26c-ee71-4a04-95fe-dc8b67e2ed2d button.colab-df-convert');\n",
              "        buttonEl.style.display =\n",
              "          google.colab.kernel.accessAllowed ? 'block' : 'none';\n",
              "\n",
              "        async function convertToInteractive(key) {\n",
              "          const element = document.querySelector('#df-c965e26c-ee71-4a04-95fe-dc8b67e2ed2d');\n",
              "          const dataTable =\n",
              "            await google.colab.kernel.invokeFunction('convertToInteractive',\n",
              "                                                     [key], {});\n",
              "          if (!dataTable) return;\n",
              "\n",
              "          const docLinkHtml = 'Like what you see? Visit the ' +\n",
              "            '<a target=\"_blank\" href=https://colab.research.google.com/notebooks/data_table.ipynb>data table notebook</a>'\n",
              "            + ' to learn more about interactive tables.';\n",
              "          element.innerHTML = '';\n",
              "          dataTable['output_type'] = 'display_data';\n",
              "          await google.colab.output.renderOutput(dataTable, element);\n",
              "          const docLink = document.createElement('div');\n",
              "          docLink.innerHTML = docLinkHtml;\n",
              "          element.appendChild(docLink);\n",
              "        }\n",
              "      </script>\n",
              "    </div>\n",
              "  </div>\n",
              "  "
            ]
          },
          "metadata": {},
          "execution_count": 26
        }
      ]
    },
    {
      "cell_type": "code",
      "source": [
        "# MAY REMOVE see above cell\n",
        "\n",
        "# Convert all label values from text to numeric.  \n",
        "#  'white' should be made 0, while all other value in 'label' column should be 1\n",
        "#  (Instances for 'white' are not ransomware while the rest are ransomwares)\n",
        "#df_final = df_mod2.copy()\n",
        "#del df_mod2\n",
        "\n",
        "df_final = df_mod1.copy()\n",
        "\n",
        "# Q: again, do I need to create a new dataframe for this?\n",
        "#   why not just use df_mod2?\n",
        "\n",
        "\n",
        "# set label w/value of white to 0 and all others to 1, convert column to int\n",
        "df_final.loc[df_final.label == 'white', 'label'] = 0\n",
        "df_final.loc[df_final.label != 0, 'label'] = 1\n",
        "df_final['label'] = df_final['label'].astype(str).astype(int)\n",
        "\n",
        "# verify\n",
        "print(df_final['label'].value_counts(),'\\n')\n",
        "df_final.dtypes"
      ],
      "metadata": {
        "colab": {
          "base_uri": "https://localhost:8080/"
        },
        "id": "xXBK0nsT2HUH",
        "outputId": "e5b0ec56-7500-4eb6-c8ce-069eb5886157"
      },
      "execution_count": 24,
      "outputs": [
        {
          "output_type": "stream",
          "name": "stdout",
          "text": [
            "0    9583\n",
            "1     417\n",
            "Name: label, dtype: int64 \n",
            "\n"
          ]
        },
        {
          "output_type": "execute_result",
          "data": {
            "text/plain": [
              "year           int64\n",
              "day            int64\n",
              "length         int64\n",
              "weight       float64\n",
              "count          int64\n",
              "looped         int64\n",
              "neighbors      int64\n",
              "income       float64\n",
              "label          int64\n",
              "dtype: object"
            ]
          },
          "metadata": {},
          "execution_count": 24
        }
      ]
    },
    {
      "cell_type": "markdown",
      "metadata": {
        "id": "uNE4RZh4YccZ"
      },
      "source": [
        "# Step 3: Build Model"
      ]
    },
    {
      "cell_type": "code",
      "source": [
        "# Create dataframe X from modified dataframe\n",
        "#X = pd.DataFrame(data=df_final)\n",
        "X = pd.DataFrame(data=df_mod1)\n",
        "del df_mod1"
      ],
      "metadata": {
        "id": "f2uN2lyiR4LE"
      },
      "execution_count": 27,
      "outputs": []
    },
    {
      "cell_type": "markdown",
      "source": [
        "### Attempt to determine ideal number of clusters"
      ],
      "metadata": {
        "id": "Du_58FG4iEpK"
      }
    },
    {
      "cell_type": "code",
      "metadata": {
        "id": "jGZljHkpPeak"
      },
      "source": [
        "# Attempt to determine ideal nbr of clusters using elbow method\n",
        "#  wcss -> Within-Cluster-Sum-of-Squares \n",
        "#          (sum of squared distance btwn each point & centroid in a cluster)\n",
        "\n",
        "E = X.iloc[:,:].values # consider values from all rows, all columns\n",
        "wcss = [] \n",
        "for i in range(1, 10): \n",
        "    kmeans = KMeans(n_clusters = i, init = 'k-means++', random_state = 42)\n",
        "    kmeans.fit(E) \n",
        "    wcss.append(kmeans.inertia_) "
      ],
      "execution_count": 28,
      "outputs": []
    },
    {
      "cell_type": "code",
      "metadata": {
        "id": "sQ-krLnRPxVc",
        "colab": {
          "base_uri": "https://localhost:8080/",
          "height": 290
        },
        "outputId": "2b0874b9-dad7-4f8e-a641-4cf86aee4c88"
      },
      "source": [
        "# plot the elbow\n",
        "plt.plot(range(1, 10), wcss)\n",
        "plt.xlabel('Number of clusters')\n",
        "plt.ylabel('WCSS') \n",
        "plt.show()"
      ],
      "execution_count": 29,
      "outputs": [
        {
          "output_type": "display_data",
          "data": {
            "text/plain": [
              "<Figure size 432x288 with 1 Axes>"
            ],
            "image/png": "[encoded data removed]"
          },
          "metadata": {
            "needs_background": "light"
          }
        }
      ]
    },
    {
      "cell_type": "markdown",
      "source": [
        "### Use KMeans algorithm to cluster"
      ],
      "metadata": {
        "id": "4ke8WT-PiWo_"
      }
    },
    {
      "cell_type": "code",
      "metadata": {
        "id": "oqP5TSP1PxYR",
        "colab": {
          "base_uri": "https://localhost:8080/"
        },
        "outputId": "c3c5f662-5bef-4207-da5e-eea91e41afef"
      },
      "source": [
        "# Create and fit KMeans model w/2 clusters\n",
        "nbr_clusters = 2\n",
        "model_type = 'KMeans'\n",
        "model_types = [model_type]\n",
        "model = KMeans(n_clusters=nbr_clusters)\n",
        "\n",
        "# KMeans, compute cluster centers & predict cluster index for each sample \n",
        "#   (returns index of cluster each sample belongs to)\n",
        "y = model.fit_predict(X)\n",
        "print(y[0:30])"
      ],
      "execution_count": 30,
      "outputs": [
        {
          "output_type": "stream",
          "name": "stdout",
          "text": [
            "[0 0 0 0 0 0 0 0 0 0 0 0 0 0 0 0 0 0 0 0 0 0 0 0 0 0 0 0 0 0]\n"
          ]
        }
      ]
    },
    {
      "cell_type": "code",
      "source": [
        "# Add clustering index as column in original dataframe\n",
        "#  use model_type as column name\n",
        "df[model_type] = y\n",
        "\n",
        "# Q: do I need to do this?\n",
        "#del y \n",
        "\n",
        "# verify\n",
        "print('dataframe columns:\\n', df.columns)"
      ],
      "metadata": {
        "colab": {
          "base_uri": "https://localhost:8080/"
        },
        "id": "M5CA7DgmaBUz",
        "outputId": "c568bd9b-6034-49b8-8e7b-0eae8ebe0893"
      },
      "execution_count": 31,
      "outputs": [
        {
          "output_type": "stream",
          "name": "stdout",
          "text": [
            "dataframe columns:\n",
            " Index(['Unnamed: 0', 'address', 'year', 'day', 'length', 'weight', 'count',\n",
            "       'looped', 'neighbors', 'income', 'label', 'KMeans'],\n",
            "      dtype='object')\n"
          ]
        }
      ]
    },
    {
      "cell_type": "code",
      "source": [
        "# TEST cell will delete\n",
        "\n",
        "my_list = ['a','c','c','x','x','a','a','a']\n",
        "my_series = pd.Series(my_list)\n",
        "\n",
        "counts = dict(my_series.value_counts())\n",
        "pers = dict(my_series.value_counts(normalize=True))\n",
        "my_dict = {}\n",
        "for item in counts.keys():\n",
        "  my_dict.update({item:[counts[item],pers[item]]})\n",
        "print(my_dict)\n",
        "#d = counts.\n",
        "\n",
        "\n",
        "#quick_df = my_series.value_counts(normalize=True).to_frame()\n",
        "#quick_df.columns = ['percentage']\n",
        "#quick_df['count'] = counts\n",
        "#print('Counts & Percentages:')\n",
        "#print(quick_df.loc[:,['count','percentage']]*100)\n"
      ],
      "metadata": {
        "colab": {
          "base_uri": "https://localhost:8080/"
        },
        "id": "JrGpoSOTN8JJ",
        "outputId": "d22b6c3e-8a91-4008-c611-c0a534125d0e"
      },
      "execution_count": 177,
      "outputs": [
        {
          "output_type": "stream",
          "name": "stdout",
          "text": [
            "{'a': [4, 0.5], 'c': [2, 0.25], 'x': [2, 0.25]}\n"
          ]
        }
      ]
    },
    {
      "cell_type": "code",
      "source": [
        "# Print counts and percentages for each label\n",
        "# Note that it clustered so many into a single cluster\n",
        "#  (about 5% is ransomware, so it appears to be grouping by 'label')\n",
        "#print('For',model_type, '- number of clusters:', len(df[model_type].unique()))\n",
        "#print('For',model_type, '- count and percentage for each cluster: \\n')\n",
        "\n",
        "print_counts_percentages(model_type,df)\n",
        "# From dataset link: \"Note that although we are certain about ransomware labels, \n",
        "#    we do not know if all white addresses are in fact not related to ransomware.\""
      ],
      "metadata": {
        "colab": {
          "base_uri": "https://localhost:8080/"
        },
        "id": "mwVIFDCvaBKm",
        "outputId": "e31ba057-73dd-45fc-c1a0-36b5ea922398"
      },
      "execution_count": 202,
      "outputs": [
        {
          "output_type": "stream",
          "name": "stdout",
          "text": [
            "For KMeans - number of clusters: 2\n",
            "For KMeans - count and percentage for each cluster: \n",
            "\n",
            "   count  percentage\n",
            "0   9995       99.95\n",
            "1      5        0.05\n"
          ]
        }
      ]
    },
    {
      "cell_type": "code",
      "source": [
        "# Trying again, with KMeans++\n",
        "# Create and fit KMeans model w/2 clusters\n",
        "model_type = 'KMeans++'\n",
        "model_types.append(model_type)\n",
        "model_plus = KMeans(n_clusters=nbr_clusters, init='k-means++')\n",
        "\n",
        "# KMeans, compute cluster centers & predict *cluster index* for each sample \n",
        "#   (returns index of the cluster each sample belongs to)\n",
        "y = model_plus.fit_predict(X)\n",
        "print(y[0:30])"
      ],
      "metadata": {
        "colab": {
          "base_uri": "https://localhost:8080/"
        },
        "id": "X2F8aGROg1rl",
        "outputId": "99387f80-acbe-47aa-883c-44caf3b1ccaf"
      },
      "execution_count": 203,
      "outputs": [
        {
          "output_type": "stream",
          "name": "stdout",
          "text": [
            "[0 0 0 0 0 0 0 0 0 0 0 0 0 0 0 0 0 0 0 0 0 0 0 0 0 0 0 0 0 0]\n"
          ]
        }
      ]
    },
    {
      "cell_type": "code",
      "source": [
        "# Add clustering index as column in original dataframe, use model_type as column name\n",
        "df[model_type] = y\n",
        "del y\n",
        "print('dataframe columns:\\n', df.columns)"
      ],
      "metadata": {
        "colab": {
          "base_uri": "https://localhost:8080/"
        },
        "id": "pddzyPsBg1XV",
        "outputId": "9e398bd2-ebbc-404a-d67f-188dba15f139"
      },
      "execution_count": 204,
      "outputs": [
        {
          "output_type": "stream",
          "name": "stdout",
          "text": [
            "dataframe columns:\n",
            " Index(['Unnamed: 0', 'address', 'year', 'day', 'length', 'weight', 'count',\n",
            "       'looped', 'neighbors', 'income', 'label', 'KMeans', 'KMeans++'],\n",
            "      dtype='object')\n"
          ]
        }
      ]
    },
    {
      "cell_type": "code",
      "source": [
        "#print('For',model_type, '- number of clusters:', len(df[model_type].unique()))\n",
        "#print('For',model_type,'- count for each cluster: \\n', df[model_type].value_counts())\n",
        "#print('For',model_type,'count and percentage for each cluster: \\n')\n",
        "# exactly the same... actually I think this algorithm does the same thing, only faster\n",
        "\n",
        "print_counts_percentages(model_type,df)"
      ],
      "metadata": {
        "colab": {
          "base_uri": "https://localhost:8080/"
        },
        "id": "I6Fgun3whqdU",
        "outputId": "63766bfd-8dc1-4c87-aa5e-abdf3d018139"
      },
      "execution_count": 206,
      "outputs": [
        {
          "output_type": "stream",
          "name": "stdout",
          "text": [
            "For KMeans++ - number of clusters: 2\n",
            "For KMeans++ - count and percentage for each cluster: \n",
            "\n",
            "   count  percentage\n",
            "0   9995       99.95\n",
            "1      5        0.05\n"
          ]
        }
      ]
    },
    {
      "cell_type": "markdown",
      "source": [
        "### Try DBSAN Clustering"
      ],
      "metadata": {
        "id": "EIxGK_23iizu"
      }
    },
    {
      "cell_type": "code",
      "source": [
        "# DBSCAN Model - create model with radius & minimum nbr of data points\n",
        "model_type = 'DBSCAN'\n",
        "model_types.append(model_type)\n",
        "model_dbscan = DBSCAN(eps=10, min_samples=10)\n",
        "\n",
        "# DBSCAN: Compute clusters from a data or distance matrix & predict *labels*\n",
        "#   (returns Cluster labels. Noisy samples are given the label -1)\n",
        "y = model_dbscan.fit_predict(X)\n",
        "print(y[0:30])"
      ],
      "metadata": {
        "colab": {
          "base_uri": "https://localhost:8080/"
        },
        "id": "EzduQYe3h_jp",
        "outputId": "16922eea-027b-4542-bb69-1da9343dabaa"
      },
      "execution_count": 207,
      "outputs": [
        {
          "output_type": "stream",
          "name": "stdout",
          "text": [
            "[-1 -1 -1 -1 -1 -1 -1 -1 -1 -1 -1 -1 -1  1 -1 -1 -1  0 -1 -1 -1 -1 -1 -1\n",
            " -1 -1 -1 -1 -1 -1]\n"
          ]
        }
      ]
    },
    {
      "cell_type": "code",
      "source": [
        "# Add clustering index as column in original dataframe, use model_type as column name\n",
        "df[model_type] = y\n",
        "del y\n",
        "print('dataframe columns:\\n', df.columns)"
      ],
      "metadata": {
        "colab": {
          "base_uri": "https://localhost:8080/"
        },
        "id": "DoA7M7rBjHqq",
        "outputId": "a0f72baf-d7b8-493e-c4f4-7a70567f2f64"
      },
      "execution_count": 208,
      "outputs": [
        {
          "output_type": "stream",
          "name": "stdout",
          "text": [
            "dataframe columns:\n",
            " Index(['Unnamed: 0', 'address', 'year', 'day', 'length', 'weight', 'count',\n",
            "       'looped', 'neighbors', 'income', 'label', 'KMeans', 'KMeans++',\n",
            "       'DBSCAN'],\n",
            "      dtype='object')\n"
          ]
        }
      ]
    },
    {
      "cell_type": "code",
      "source": [
        "#print('For',model_type, '- number of clusters:', len(df[model_type].unique()))\n",
        "#print('For',model_type, '- count for each cluster: \\n', df[model_type].value_counts())\n",
        "# -1 refers to noisy data\n",
        "print_counts_percentages(model_type,df)"
      ],
      "metadata": {
        "colab": {
          "base_uri": "https://localhost:8080/"
        },
        "id": "O3ZCcY_Wh_SL",
        "outputId": "9013e1f5-e399-4a36-88c5-3238d626bf57"
      },
      "execution_count": 209,
      "outputs": [
        {
          "output_type": "stream",
          "name": "stdout",
          "text": [
            "For DBSCAN - number of clusters: 6\n",
            "For DBSCAN - count and percentage for each cluster: \n",
            "\n",
            "    count  percentage\n",
            "-1   9734       97.34\n",
            " 1    143        1.43\n",
            " 2     68        0.68\n",
            " 4     30        0.30\n",
            " 0     14        0.14\n",
            " 3     11        0.11\n"
          ]
        }
      ]
    },
    {
      "cell_type": "markdown",
      "source": [
        "### Try Hierachical Clustering"
      ],
      "metadata": {
        "id": "DRwwiTAqqQNw"
      }
    },
    {
      "cell_type": "code",
      "source": [
        "# Note the textbook has code to create a dendrogram for it's expample of hierachical clusters\n",
        "#   should i create a dendrogram? Need to review why it would tell me. pp 456"
      ],
      "metadata": {
        "id": "kf2tqWRjFrWw"
      },
      "execution_count": null,
      "outputs": []
    },
    {
      "cell_type": "code",
      "source": [
        "# Creat agglomerative model \n",
        "# (Recursively merges pair of clusters of sample data; uses linkage distance)\n",
        "model_type = 'Agglomerative'\n",
        "model_types.append(model_type)\n",
        "model_agg = AgglomerativeClustering(n_clusters=nbr_clusters)\n",
        "\n",
        "# Fit & return result of each sample's clustering assignment\n",
        "y = model_agg.fit_predict(X)"
      ],
      "metadata": {
        "id": "KAG96mQxqTJP"
      },
      "execution_count": 210,
      "outputs": []
    },
    {
      "cell_type": "code",
      "source": [
        "# Add clustering index as column in original dataframe\n",
        "#  use model_type as column name\n",
        "df[model_type] = y\n",
        "\n",
        "# Consider removing the line below...\n",
        "del y\n",
        "\n",
        "print('dataframe columns:\\n', df.columns)"
      ],
      "metadata": {
        "colab": {
          "base_uri": "https://localhost:8080/"
        },
        "id": "yMy-lJZ1qzHI",
        "outputId": "edd706c7-5418-4122-c3bd-1e3cb0bb42eb"
      },
      "execution_count": 211,
      "outputs": [
        {
          "output_type": "stream",
          "name": "stdout",
          "text": [
            "dataframe columns:\n",
            " Index(['Unnamed: 0', 'address', 'year', 'day', 'length', 'weight', 'count',\n",
            "       'looped', 'neighbors', 'income', 'label', 'KMeans', 'KMeans++',\n",
            "       'DBSCAN', 'Agglomerative'],\n",
            "      dtype='object')\n"
          ]
        }
      ]
    },
    {
      "cell_type": "code",
      "source": [
        "#print('For',model_type, '- number of clusters:', len(df[model_type].unique()))\n",
        "#print('For',model_type, '- count for each cluster: \\n', df[model_type].value_counts())\n",
        "print_counts_percentages(model_type,df)"
      ],
      "metadata": {
        "colab": {
          "base_uri": "https://localhost:8080/"
        },
        "id": "-9Ox6TvUrX4z",
        "outputId": "595ca252-4736-4a82-abf4-f93cc4736a1d"
      },
      "execution_count": 212,
      "outputs": [
        {
          "output_type": "stream",
          "name": "stdout",
          "text": [
            "For Agglomerative - number of clusters: 2\n",
            "For Agglomerative - count and percentage for each cluster: \n",
            "\n",
            "   count  percentage\n",
            "0   9997       99.97\n",
            "1      3        0.03\n"
          ]
        }
      ]
    },
    {
      "cell_type": "code",
      "source": [
        "# Q: should I add code to vliew cluster assignments? Textbook p. 468"
      ],
      "metadata": {
        "id": "XDpsVlW7GFRn"
      },
      "execution_count": null,
      "outputs": []
    },
    {
      "cell_type": "markdown",
      "metadata": {
        "id": "W6n_VkLiYyEm"
      },
      "source": [
        "# Step 4: Visualize"
      ]
    },
    {
      "cell_type": "code",
      "source": [
        "# Primary Component Analysis (concept: \"dimensionality reduction\")\n",
        "#   Use PCA to reduce nbr of features \n",
        "\n",
        "# set nbr of components to keep = 2\n",
        "pca_num_components=2\n",
        "\n",
        "# fit_transform: Fit model with X and apply dimensionality reduction on X\n",
        "reduced_data = PCA(n_components=pca_num_components).fit_transform(X)\n",
        "# create new dataframe containing the 2 columns\n",
        "results = pd.DataFrame(reduced_data, columns=['pca1', 'pca2'])"
      ],
      "metadata": {
        "id": "2oN9lWG_r4Wh"
      },
      "execution_count": 213,
      "outputs": []
    },
    {
      "cell_type": "code",
      "source": [
        "# Create Scatterplots for each model type,\n",
        "#   set colors using column added for model type\n",
        "for model_type in model_types:\n",
        "  sns.scatterplot(x='pca1', y='pca2', hue=df[model_type], data=results)\n",
        "  plt.title(model_type + ' clustering with 2 dimensions')\n",
        "  image_file_name = path_images + model_type + '.jpg'\n",
        "  print('Saving image to:', image_file_name,'\\n')\n",
        "  plt.savefig(image_file_name)\n",
        "  plt.show()"
      ],
      "metadata": {
        "colab": {
          "base_uri": "https://localhost:8080/",
          "height": 1000
        },
        "id": "o9Zkd5Zvr4RC",
        "outputId": "b9b6e4c0-37f1-4ae9-dbf4-b659ef68afbc"
      },
      "execution_count": 214,
      "outputs": [
        {
          "output_type": "stream",
          "name": "stdout",
          "text": [
            "Saving image to: /content/drive/My Drive/INFO 287 PSWD2/work/assignment 1/images/KMeans.jpg \n",
            "\n"
          ]
        },
        {
          "output_type": "display_data",
          "data": {
            "text/plain": [
              "<Figure size 432x288 with 1 Axes>"
            ],
            "image/png": "[encoded data removed]"
          },
          "metadata": {
            "needs_background": "light"
          }
        },
        {
          "output_type": "stream",
          "name": "stdout",
          "text": [
            "Saving image to: /content/drive/My Drive/INFO 287 PSWD2/work/assignment 1/images/KMeans++.jpg \n",
            "\n"
          ]
        },
        {
          "output_type": "display_data",
          "data": {
            "text/plain": [
              "<Figure size 432x288 with 1 Axes>"
            ],
            "image/png": "[encoded data removed]"
          },
          "metadata": {
            "needs_background": "light"
          }
        },
        {
          "output_type": "stream",
          "name": "stdout",
          "text": [
            "Saving image to: /content/drive/My Drive/INFO 287 PSWD2/work/assignment 1/images/DBSCAN.jpg \n",
            "\n"
          ]
        },
        {
          "output_type": "display_data",
          "data": {
            "text/plain": [
              "<Figure size 432x288 with 1 Axes>"
            ],
            "image/png": "[encoded data removed]"
          },
          "metadata": {
            "needs_background": "light"
          }
        },
        {
          "output_type": "stream",
          "name": "stdout",
          "text": [
            "Saving image to: /content/drive/My Drive/INFO 287 PSWD2/work/assignment 1/images/Agglomerative.jpg \n",
            "\n"
          ]
        },
        {
          "output_type": "display_data",
          "data": {
            "text/plain": [
              "<Figure size 432x288 with 1 Axes>"
            ],
            "image/png": "[encoded data removed]"
          },
          "metadata": {
            "needs_background": "light"
          }
        }
      ]
    },
    {
      "cell_type": "code",
      "source": [
        ""
      ],
      "metadata": {
        "id": "wdx7s0xir4Ko"
      },
      "execution_count": null,
      "outputs": []
    },
    {
      "cell_type": "markdown",
      "metadata": {
        "id": "81a7tEffY0QN"
      },
      "source": [
        "# Step 5: Evaluation"
      ]
    },
    {
      "cell_type": "markdown",
      "source": [
        "# Print metrics"
      ],
      "metadata": {
        "id": "oPnrPRouV2vu"
      }
    },
    {
      "cell_type": "code",
      "metadata": {
        "id": "7IsKJcoIHm94",
        "colab": {
          "base_uri": "https://localhost:8080/"
        },
        "outputId": "ff273a3c-24c0-44a5-edc6-4396dc659061"
      },
      "source": [
        "# Loop thru models, calculate silhoutte avg, display\n",
        "for model_type in model_types:\n",
        "  silhoutte_avg = silhouette_score(X,df[model_type])\n",
        "  print(f'{model_type:20}\\t{silhoutte_avg:>20}')"
      ],
      "execution_count": null,
      "outputs": [
        {
          "output_type": "stream",
          "name": "stdout",
          "text": [
            "KMeans              \t  0.9969333877148067\n",
            "KMeans++            \t  0.9969333877148067\n",
            "DBSCAN              \t -0.7786006639596781\n",
            "Agglomerative       \t  0.9975153402023031\n"
          ]
        }
      ]
    },
    {
      "cell_type": "code",
      "metadata": {
        "id": "6Cs-Bkx8Hla7"
      },
      "source": [
        ""
      ],
      "execution_count": null,
      "outputs": []
    }
  ]
}